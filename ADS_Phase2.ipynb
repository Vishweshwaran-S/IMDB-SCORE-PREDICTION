{
  "nbformat": 4,
  "nbformat_minor": 0,
  "metadata": {
    "colab": {
      "provenance": []
    },
    "kernelspec": {
      "name": "python3",
      "display_name": "Python 3"
    },
    "language_info": {
      "name": "python"
    }
  },
  "cells": [
    {
      "cell_type": "markdown",
      "source": [
        "# ***NAAL MUDALVAN(IBM)***\n",
        "\n",
        "---\n",
        "\n",
        "\n",
        "\n",
        "**Phase**  : 2\n",
        "\n",
        "**Group**  : 3\n",
        "\n",
        "**Course** : Applied Data Science\n",
        "\n",
        "**Project**: Predicting the imdb scores"
      ],
      "metadata": {
        "id": "Ft67mgv2gnvi"
      }
    },
    {
      "cell_type": "markdown",
      "source": [
        "#**Neural Networks:**\n",
        "   - We are exploring a Recurrent Neural Network (RNN) Since we have sequential data (e.g., movie reviews).\n",
        "   - We are experimenting with ensemble neural networks for improved performance.\n",
        "\n",
        "#**Model Selection:**\n",
        "   We are choosing an appropriate regression model for the task. Common regression models for predicting IMDb scores include:\n",
        "   - Decision Trees and Random Forest: Effective for capturing nonlinear relationships.\n",
        "   - Gradient Boosting (e.g., XGBoost): Provides high predictive accuracy.\n",
        "\n",
        "#**Model Training:**\n",
        "   - We are splitting our dataset into a training set and a test set. Typically, we might be using 70-80% of the data for training and the rest for testing.\n",
        "   - We are training the selected regression model on the training data.\n"
      ],
      "metadata": {
        "id": "4z4c7W3qgita"
      }
    }
  ]
}